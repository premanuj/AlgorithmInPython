{
 "cells": [
  {
   "cell_type": "raw",
   "metadata": {},
   "source": [
    "Q1. Given a list of integers L, find the maximum length of a sequence of consecutive numbers that can be formed using elements from L\n",
    "\n",
    "E.g: [1,5,89,90, 4,2]"
   ]
  },
  {
   "cell_type": "code",
   "execution_count": 1,
   "metadata": {},
   "outputs": [],
   "source": [
    "l = [2,1,5,89,90, 4,2]"
   ]
  },
  {
   "cell_type": "code",
   "execution_count": null,
   "metadata": {},
   "outputs": [],
   "source": [
    "def consecutive(alist):\n",
    "    res = []\n",
    "    for i in alist:\n",
    "        "
   ]
  },
  {
   "cell_type": "raw",
   "metadata": {},
   "source": [
    "Q2. Consider the following dictionary \n",
    "{ i, like, sam, sung, samsung, mobile, ice, \n",
    "  cream, icecream, man, go, mango}\n",
    "\n",
    "Input:  ilike\n",
    "Output: Yes \n",
    "The string can be segmented as \"i like\".\n",
    "\n",
    "Input:  ilikesamsung\n",
    "Output: Yes\n",
    "The string can be segmented as \"i like samsung\" \n",
    "or \"i like sam sung\"."
   ]
  },
  {
   "cell_type": "code",
   "execution_count": 76,
   "metadata": {},
   "outputs": [],
   "source": [
    "def word_bag(word_list, string):\n",
    "    if string == \"\":\n",
    "        return True\n",
    "    else:\n",
    "        string_len = len(string)\n",
    "        result = []\n",
    "#         if string in word_list:\n",
    "#             result.append(string)\n",
    "# #         print(result)\n",
    "        return [string[i:] for i in range(1, string_len+1) if string[:i] in word_list and word_bag(word_list, string[i:])]\n",
    "            \n",
    "#         words = [string[:i] for i in range(string_len) if string[:i] in word_list]\n",
    "    "
   ]
  },
  {
   "cell_type": "code",
   "execution_count": 77,
   "metadata": {},
   "outputs": [],
   "source": [
    "words = { 'i', 'like', 'sam', 'sung', 'samsung', 'mobile', 'ice','cream', 'icecream', 'man', 'go', 'mango'}"
   ]
  },
  {
   "cell_type": "code",
   "execution_count": 78,
   "metadata": {},
   "outputs": [
    {
     "data": {
      "text/plain": [
       "['likesam ']"
      ]
     },
     "execution_count": 78,
     "metadata": {},
     "output_type": "execute_result"
    }
   ],
   "source": [
    "word_bag(words, \"ilikesam\")"
   ]
  },
  {
   "cell_type": "code",
   "execution_count": 13,
   "metadata": {},
   "outputs": [
    {
     "ename": "AssertionError",
     "evalue": "",
     "output_type": "error",
     "traceback": [
      "\u001b[0;31m---------------------------------------------------------------------------\u001b[0m",
      "\u001b[0;31mAssertionError\u001b[0m                            Traceback (most recent call last)",
      "\u001b[0;32m<ipython-input-13-b6475a3521df>\u001b[0m in \u001b[0;36m<module>\u001b[0;34m\u001b[0m\n\u001b[1;32m      1\u001b[0m \u001b[0;31m#tests that should passed\u001b[0m\u001b[0;34m\u001b[0m\u001b[0;34m\u001b[0m\u001b[0;34m\u001b[0m\u001b[0m\n\u001b[0;32m----> 2\u001b[0;31m \u001b[0;32massert\u001b[0m \u001b[0mword_bag\u001b[0m\u001b[0;34m(\u001b[0m\u001b[0mwords\u001b[0m\u001b[0;34m,\u001b[0m \u001b[0;34m\"ilike\"\u001b[0m\u001b[0;34m)\u001b[0m \u001b[0;34m==\u001b[0m \u001b[0;34m\"i like\"\u001b[0m\u001b[0;34m\u001b[0m\u001b[0;34m\u001b[0m\u001b[0m\n\u001b[0m\u001b[1;32m      3\u001b[0m \u001b[0;32massert\u001b[0m \u001b[0mword_bag\u001b[0m\u001b[0;34m(\u001b[0m\u001b[0mwords\u001b[0m\u001b[0;34m,\u001b[0m \u001b[0;34m\"ilikesam\"\u001b[0m\u001b[0;34m)\u001b[0m \u001b[0;34m==\u001b[0m \u001b[0;34m\"i like sam\"\u001b[0m\u001b[0;34m\u001b[0m\u001b[0;34m\u001b[0m\u001b[0m\n\u001b[1;32m      4\u001b[0m \u001b[0;32massert\u001b[0m \u001b[0mword_bag\u001b[0m\u001b[0;34m(\u001b[0m\u001b[0mwords\u001b[0m\u001b[0;34m,\u001b[0m \u001b[0;34m\"ilikemobile\"\u001b[0m\u001b[0;34m)\u001b[0m \u001b[0;34m==\u001b[0m \u001b[0;34m\"i like mobile\"\u001b[0m\u001b[0;34m\u001b[0m\u001b[0;34m\u001b[0m\u001b[0m\n",
      "\u001b[0;31mAssertionError\u001b[0m: "
     ]
    }
   ],
   "source": [
    "#tests that should passed\n",
    "assert word_bag(words, \"ilike\") == \"i like\"\n",
    "assert word_bag(words, \"ilikesam\") == \"i like sam\"\n",
    "assert word_bag(words, \"ilikemobile\") == \"i like mobile\""
   ]
  },
  {
   "cell_type": "code",
   "execution_count": 14,
   "metadata": {},
   "outputs": [
    {
     "data": {
      "text/plain": [
       "'Given string is empty.'"
      ]
     },
     "execution_count": 14,
     "metadata": {},
     "output_type": "execute_result"
    }
   ],
   "source": [
    "#tests that should faild\n",
    "word_bag(words, \"\")"
   ]
  },
  {
   "cell_type": "code",
   "execution_count": 16,
   "metadata": {},
   "outputs": [
    {
     "ename": "AssertionError",
     "evalue": "",
     "output_type": "error",
     "traceback": [
      "\u001b[0;31m---------------------------------------------------------------------------\u001b[0m",
      "\u001b[0;31mAssertionError\u001b[0m                            Traceback (most recent call last)",
      "\u001b[0;32m<ipython-input-16-0552c1a866a0>\u001b[0m in \u001b[0;36m<module>\u001b[0;34m\u001b[0m\n\u001b[0;32m----> 1\u001b[0;31m \u001b[0;32massert\u001b[0m \u001b[0;36m2\u001b[0m\u001b[0;34m!=\u001b[0m\u001b[0;36m2\u001b[0m\u001b[0;34m\u001b[0m\u001b[0;34m\u001b[0m\u001b[0m\n\u001b[0m",
      "\u001b[0;31mAssertionError\u001b[0m: "
     ]
    }
   ],
   "source": [
    "assert 2!=2"
   ]
  },
  {
   "cell_type": "code",
   "execution_count": 104,
   "metadata": {},
   "outputs": [],
   "source": [
    "def word_bag(words, string):\n",
    "    total_words = len(words)\n",
    "    max_word_size = len(sorted(words)[-1])\n",
    "    charaters = len(string)\n",
    "    temp_dict = {}\n",
    "    for word in words:\n",
    "        temp_dict[len(word)] = temp_dict.get(len(word), []).append(word)"
   ]
  },
  {
   "cell_type": "code",
   "execution_count": 130,
   "metadata": {},
   "outputs": [
    {
     "data": {
      "text/plain": [
       "['i', 'like', 'sam', 'sung', 'i']"
      ]
     },
     "execution_count": 130,
     "metadata": {},
     "output_type": "execute_result"
    }
   ],
   "source": [
    "word_list = { 'i', 'like', 'sam', 'sung', 'samsung', 'mobile', 'ice','cream', 'icecream', 'man', 'go', 'mango'}\n",
    "string = \"ilikesamsungicemobile\"\n",
    "word_bag(word_list, string)"
   ]
  },
  {
   "cell_type": "code",
   "execution_count": 131,
   "metadata": {},
   "outputs": [],
   "source": [
    "temp_dict = {}\n",
    "for word in word_list:\n",
    "    temp_dict[len(word)]  = temp_dict.get(len(word), [])\n",
    "    temp_dict[len(word)].append(word)\n",
    "    temp_dict[len(word)].sort()"
   ]
  },
  {
   "cell_type": "code",
   "execution_count": 132,
   "metadata": {},
   "outputs": [
    {
     "data": {
      "text/plain": [
       "{5: ['cream', 'mango'],\n",
       " 7: ['samsung'],\n",
       " 3: ['ice', 'man', 'sam'],\n",
       " 1: ['i'],\n",
       " 6: ['mobile'],\n",
       " 4: ['like', 'sung'],\n",
       " 8: ['icecream'],\n",
       " 2: ['go']}"
      ]
     },
     "execution_count": 132,
     "metadata": {},
     "output_type": "execute_result"
    }
   ],
   "source": [
    "temp_dict"
   ]
  },
  {
   "cell_type": "code",
   "execution_count": 142,
   "metadata": {},
   "outputs": [
    {
     "name": "stdout",
     "output_type": "stream",
     "text": [
      "i\n",
      "like\n",
      "ice\n",
      "cream\n"
     ]
    }
   ],
   "source": [
    "string = \"ilikeicecream\"\n",
    "position = 0\n",
    "visited = set()\n",
    "for i in range(1, len(string)+1):\n",
    "    if len(string[position:i]) in temp_dict and string[position:i] in temp_dict[len(string[position:i])] and string[position:i] not in visited:\n",
    "        print(string[position:i])\n",
    "        visited.add(string[position:i])\n",
    "        position = i\n",
    "    "
   ]
  },
  {
   "cell_type": "raw",
   "metadata": {},
   "source": [
    "Given the mapping a = 1, b = 2, ... z = 26, and an encoded message, count the number of ways it can be decoded.\n",
    "\n",
    "For example, the message '111' would give 3, since it could be decoded as 'aaa', 'ka', and 'ak'."
   ]
  },
  {
   "cell_type": "code",
   "execution_count": 189,
   "metadata": {},
   "outputs": [],
   "source": [
    "def decode(data, k):\n",
    "    if data == \"\":\n",
    "        return 1\n",
    "    i = len(data)-k\n",
    "    if data[i] == \"0\":\n",
    "        return 0\n",
    "    result = decode(data[1:], k-1)\n",
    "    if k >= 2 and int(data[i:i+2]) <= 26:\n",
    "        result += decode(data[2:], k-2)\n",
    "    return result\n",
    "\n",
    "        "
   ]
  },
  {
   "cell_type": "code",
   "execution_count": 190,
   "metadata": {},
   "outputs": [],
   "source": [
    "def decode_ways(data):\n",
    "    return decode(data, len(data))"
   ]
  },
  {
   "cell_type": "code",
   "execution_count": 192,
   "metadata": {},
   "outputs": [
    {
     "name": "stdout",
     "output_type": "stream",
     "text": [
      "111 0\n",
      "11 0\n",
      "1 0\n",
      "1 0\n"
     ]
    },
    {
     "data": {
      "text/plain": [
       "3"
      ]
     },
     "execution_count": 192,
     "metadata": {},
     "output_type": "execute_result"
    }
   ],
   "source": [
    "decode_ways('111')"
   ]
  },
  {
   "cell_type": "code",
   "execution_count": null,
   "metadata": {},
   "outputs": [],
   "source": []
  }
 ],
 "metadata": {
  "kernelspec": {
   "display_name": "Python 3",
   "language": "python",
   "name": "python3"
  },
  "language_info": {
   "codemirror_mode": {
    "name": "ipython",
    "version": 3
   },
   "file_extension": ".py",
   "mimetype": "text/x-python",
   "name": "python",
   "nbconvert_exporter": "python",
   "pygments_lexer": "ipython3",
   "version": "3.7.3"
  }
 },
 "nbformat": 4,
 "nbformat_minor": 2
}
