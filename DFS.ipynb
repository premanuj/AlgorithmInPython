{
 "cells": [
  {
   "cell_type": "code",
   "execution_count": 3,
   "metadata": {},
   "outputs": [],
   "source": [
    "class Graph:\n",
    "    def vertices(self):\n",
    "        return [\"A\", \"B\", \"C\", \"D\", \"E\", \"F\"]\n",
    "    def edges(self):\n",
    "        \"\"\"\n",
    "        \n",
    "        \"\"\"\n",
    "        e = {\n",
    "            \"A\": {\"B\"},\n",
    "            \"B\": {\"A\",\"C\", \"D\"},\n",
    "            \"C\": {\"B\", \"D\"},\n",
    "            \"D\": {\"B\", \"C\"},\n",
    "            \"E\": {\"F\"},\n",
    "            \"F\": {\"E\"}\n",
    "        }\n",
    "        return e"
   ]
  },
  {
   "cell_type": "code",
   "execution_count": 37,
   "metadata": {},
   "outputs": [],
   "source": [
    "class DFS:\n",
    "    def __init__(self, graph):\n",
    "        self.vertices = graph.vertices()\n",
    "        self.edges = graph.edges()\n",
    "        self.visited = []\n",
    "    def search(self):\n",
    "        for v in self.vertices:\n",
    "            if v in self.edges and v not in self.visited:\n",
    "                self.visit(v)\n",
    "        return self.visited\n",
    "    def visit(self, node):\n",
    "        edge = self.edges[node]\n",
    "        self.visited.append(node)\n",
    "        for e in self.edges:\n",
    "            if e not in self.visited:\n",
    "                self.visit(e)\n",
    "        "
   ]
  },
  {
   "cell_type": "code",
   "execution_count": 38,
   "metadata": {},
   "outputs": [],
   "source": [
    "graph = Graph()"
   ]
  },
  {
   "cell_type": "code",
   "execution_count": 39,
   "metadata": {},
   "outputs": [
    {
     "name": "stdout",
     "output_type": "stream",
     "text": [
      "['A', 'B', 'C', 'D', 'E', 'F']\n"
     ]
    }
   ],
   "source": [
    "dfs = DFS(graph)\n",
    "print(dfs.search())"
   ]
  },
  {
   "cell_type": "code",
   "execution_count": 23,
   "metadata": {},
   "outputs": [
    {
     "data": {
      "text/plain": [
       "{'A', 'B', 'C', 'D', 'E', 'F'}"
      ]
     },
     "execution_count": 23,
     "metadata": {},
     "output_type": "execute_result"
    }
   ],
   "source": [
    "dfs.visited"
   ]
  },
  {
   "cell_type": "code",
   "execution_count": 4,
   "metadata": {},
   "outputs": [],
   "source": [
    "def DFS(graph):\n",
    "    vertices = graph.vertices\n",
    "    edges = graph.edges\n",
    "    visited = set()\n",
    "    for v in vertices:\n",
    "        if v in edges and v not in visited:\n",
    "            visited = visit(v)\n",
    "            print(v)\n",
    "            "
   ]
  },
  {
   "cell_type": "code",
   "execution_count": null,
   "metadata": {},
   "outputs": [],
   "source": [
    "def visit(node):\n",
    "    "
   ]
  }
 ],
 "metadata": {
  "kernelspec": {
   "display_name": "Python 3",
   "language": "python",
   "name": "python3"
  },
  "language_info": {
   "codemirror_mode": {
    "name": "ipython",
    "version": 3
   },
   "file_extension": ".py",
   "mimetype": "text/x-python",
   "name": "python",
   "nbconvert_exporter": "python",
   "pygments_lexer": "ipython3",
   "version": "3.7.3"
  }
 },
 "nbformat": 4,
 "nbformat_minor": 2
}
