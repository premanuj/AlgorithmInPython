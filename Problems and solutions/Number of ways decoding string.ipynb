{
 "cells": [
  {
   "cell_type": "raw",
   "metadata": {},
   "source": [
    "Q. Given : hash map like {'a': 1, 'b':2, ..., 'z':26}\n",
    "    Expected output: number of possible ways you decode the string\n",
    "\n",
    "   For example, the message '111' would give 3, since it could be decoded as 'aaa', 'ka', and 'ak'."
   ]
  },
  {
   "cell_type": "code",
   "execution_count": 6,
   "metadata": {},
   "outputs": [
    {
     "data": {
      "text/plain": [
       "(2, 7.867813110351562e-06)"
      ]
     },
     "execution_count": 6,
     "metadata": {},
     "output_type": "execute_result"
    }
   ],
   "source": [
    "import time\n",
    "def decode(data, k):\n",
    "    if data == \"\":\n",
    "        return 1\n",
    "    i = len(data)-k\n",
    "    if data[i] == \"0\":\n",
    "        return 0\n",
    "    result = decode(data[1:], k-1)\n",
    "    if k >= 2 and int(data[i:i+2]) <= 26:\n",
    "        result += decode(data[2:], k-2)\n",
    "    return result\n",
    "\n",
    "def decode_ways(data):\n",
    "    start = time.time()\n",
    "    result = decode(data, len(data))\n",
    "    run_time = time.time()-start\n",
    "    return result, run_time\n",
    "\n",
    "decode_ways('131')"
   ]
  },
  {
   "cell_type": "markdown",
   "metadata": {},
   "source": [
    "# Complexity Analysis"
   ]
  },
  {
   "cell_type": "code",
   "execution_count": null,
   "metadata": {},
   "outputs": [],
   "source": [
    "O(2^n)"
   ]
  },
  {
   "cell_type": "code",
   "execution_count": 5,
   "metadata": {},
   "outputs": [
    {
     "data": {
      "text/plain": [
       "(3, 1.3828277587890625e-05)"
      ]
     },
     "execution_count": 5,
     "metadata": {},
     "output_type": "execute_result"
    }
   ],
   "source": [
    "import time\n",
    "def decode(data, k, mem):\n",
    "    if data == \"\":\n",
    "        return 1\n",
    "    i = len(data)-k\n",
    "    if data[i] == \"0\":\n",
    "        return 0\n",
    "    if mem[k] != None:\n",
    "        return mem[k]\n",
    "    result = decode(data[1:], k-1, mem)\n",
    "    if k >= 2 and int(data[i:i+2]) <= 26:\n",
    "        result += decode(data[2:], k-2, mem)\n",
    "    mem[k] = result\n",
    "    return result\n",
    "\n",
    "def decode_ways(data):\n",
    "    mem = [None]*(len(data)+1)\n",
    "    start = time.time()\n",
    "    result = decode(data, len(data), mem)\n",
    "    run_time = time.time()-start\n",
    "    return result, run_time\n",
    "\n",
    "decode_ways('111')"
   ]
  },
  {
   "cell_type": "code",
   "execution_count": null,
   "metadata": {},
   "outputs": [],
   "source": []
  }
 ],
 "metadata": {
  "kernelspec": {
   "display_name": "Python 3",
   "language": "python",
   "name": "python3"
  },
  "language_info": {
   "codemirror_mode": {
    "name": "ipython",
    "version": 3
   },
   "file_extension": ".py",
   "mimetype": "text/x-python",
   "name": "python",
   "nbconvert_exporter": "python",
   "pygments_lexer": "ipython3",
   "version": "3.7.3"
  }
 },
 "nbformat": 4,
 "nbformat_minor": 2
}
