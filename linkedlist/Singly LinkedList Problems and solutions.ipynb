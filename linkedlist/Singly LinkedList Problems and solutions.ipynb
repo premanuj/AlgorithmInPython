{
 "cells": [
  {
   "cell_type": "raw",
   "metadata": {},
   "source": [
    "Given :\n",
    "a singly linked list and\n",
    "an integer k, remove the kth last element from the list. \n",
    "NOTE: k is guaranteed to be smaller than the length of the list.\n",
    "The list is very long, so making more than one pass is prohibitively expensive.\n",
    "Do this in constant space and in one pass."
   ]
  },
  {
   "cell_type": "code",
   "execution_count": null,
   "metadata": {},
   "outputs": [],
   "source": [
    "class Node:\n",
    "    def __init__(self, value):\n",
    "        self.value = value\n",
    "        self.next = None\n",
    "    \n",
    "class LinkedList:\n",
    "    def __init__(self):\n",
    "        self.head = None\n",
    "        \n",
    "    def append(self, value):\n",
    "        new_node = Node(value)\n",
    "        if self.head is None:\n",
    "            self.head = new_node\n",
    "            return\n",
    "        current_node = self.head\n",
    "        while current_node.next:\n",
    "            current_node = current_node.next\n",
    "        current_node.next = new_node\n",
    "            "
   ]
  },
  {
   "cell_type": "code",
   "execution_count": null,
   "metadata": {},
   "outputs": [],
   "source": [
    "def remove(k, linklist):\n",
    "    current = linklist.head\n",
    "    count = 0\n",
    "    while current.next:\n",
    "        count+=1\n",
    "        current = current.next\n",
    "    current = linklist.head\n",
    "    for i in range(count-k):\n",
    "        current = current.next\n",
    "    current.next = None\n",
    "    return linklist\n",
    "        "
   ]
  },
  {
   "cell_type": "code",
   "execution_count": null,
   "metadata": {},
   "outputs": [],
   "source": [
    "ll = LinkedList()"
   ]
  },
  {
   "cell_type": "code",
   "execution_count": null,
   "metadata": {},
   "outputs": [],
   "source": [
    "ll.append(12)\n",
    "for i in range(3,18):\n",
    "    ll.append(i)\n",
    "    "
   ]
  },
  {
   "cell_type": "code",
   "execution_count": null,
   "metadata": {},
   "outputs": [],
   "source": [
    "result = remove(10, ll)"
   ]
  },
  {
   "cell_type": "code",
   "execution_count": null,
   "metadata": {},
   "outputs": [],
   "source": []
  }
 ],
 "metadata": {
  "kernelspec": {
   "display_name": "Python 3",
   "language": "python",
   "name": "python3"
  },
  "language_info": {
   "codemirror_mode": {
    "name": "ipython",
    "version": 3
   },
   "file_extension": ".py",
   "mimetype": "text/x-python",
   "name": "python",
   "nbconvert_exporter": "python",
   "pygments_lexer": "ipython3",
   "version": "3.7.3"
  }
 },
 "nbformat": 4,
 "nbformat_minor": 2
}
