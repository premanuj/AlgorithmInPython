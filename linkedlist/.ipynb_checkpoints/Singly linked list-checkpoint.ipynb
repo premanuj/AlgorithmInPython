{
 "cells": [
  {
   "cell_type": "code",
   "execution_count": 1,
   "metadata": {},
   "outputs": [],
   "source": [
    "class Node:\n",
    "    def __init__(self, value):\n",
    "        self.value = value\n",
    "        self.next = None\n",
    "\n",
    "class LinkedList:\n",
    "    def __init__(self):\n",
    "        self.head = None\n",
    "    \n",
    "    def push(self,    ):\n",
    "        new_node = Node(value)\n",
    "        new_node.next = self.head\n",
    "        self.head = new_node\n",
    "    \n",
    "    def insert_after(self, previous_node, new_data):\n",
    "        if previous_node in None:\n",
    "            print(\"Previous Node cannot be None\")\n",
    "            return\n",
    "        new_node = Node(new_data)\n",
    "        new_node.next = previous_node.next\n",
    "        previous_node.next = new_node\n",
    "        \n",
    "    def insert_by_position(self, position, new_data):\n",
    "        if self.head is None:\n",
    "            print(\"There is no position in empty linklist\")\n",
    "            return\n",
    "        desired_node = self.head\n",
    "        for i in range(1, position):\n",
    "            if desired_node.next is None:\n",
    "                print(\"Position cannot be less than size of linked list\")\n",
    "                return\n",
    "            desired_node = desired_node.next\n",
    "        new_node = Node(new_data)\n",
    "        new_node.next = desired_node.next\n",
    "        desired_node.next = new_node\n",
    "                \n",
    "    def traverse(self):\n",
    "        if self.head is None:\n",
    "            print(\"LinkedList is empty\")\n",
    "            return\n",
    "        current_node = self.head\n",
    "        print(current_node.value)\n",
    "        while current_node.next:\n",
    "            current_node = current_node.next\n",
    "            print(current_node.value)\n",
    "    def reverse(self):\n",
    "        stack = []\n",
    "        if self.head is None:\n",
    "            print(\"LinkedList is empty\")\n",
    "            return\n",
    "        current_node = self.head\n",
    "        stack.append(current_node)\n",
    "        while current_node.next:\n",
    "            current_node = current_node.next\n",
    "            stack.append(current_node)\n",
    "        \n",
    "        self.head = stack.pop()\n",
    "        current_node = self.head\n",
    "        while stack:\n",
    "            new_node = stack.pop()\n",
    "            current_node.next = new_node\n",
    "            current_node = current_node.next\n",
    "        current_node.next = None\n",
    "    \n",
    "    def append(self, new_data):\n",
    "        new_node = Node(new_data)\n",
    "        \n",
    "        if self.head is None:\n",
    "            self.head = new_node\n",
    "        \n",
    "        end = self.head\n",
    "        while end.next:\n",
    "            end = end.next\n",
    "        end.next = new_node\n",
    "    \n",
    "    def pop(self):\n",
    "        if self.head is None:\n",
    "            print(\"LinkedList is empty\")\n",
    "            return\n",
    "        current_node = self.head\n",
    "        while current_node.next:\n",
    "            previous_node = current_node\n",
    "            current_node = current_node.next\n",
    "            if current_node.next is None:\n",
    "                previous_node.next = None\n",
    "                \n",
    "    def remove(self, position):\n",
    "        if self.head is None:\n",
    "            print(\"LinkedList is empty\")\n",
    "            return\n",
    "        current_node = self.head\n",
    "        \n",
    "        for node in range(position-1):\n",
    "            current_node = current_node.next\n",
    "        current_node.next = current_node.next.next"
   ]
  },
  {
   "cell_type": "code",
   "execution_count": 2,
   "metadata": {},
   "outputs": [],
   "source": [
    "ll = LinkedList()"
   ]
  },
  {
   "cell_type": "code",
   "execution_count": 50,
   "metadata": {},
   "outputs": [],
   "source": [
    "ll.push(33)"
   ]
  },
  {
   "cell_type": "code",
   "execution_count": 51,
   "metadata": {},
   "outputs": [
    {
     "name": "stdout",
     "output_type": "stream",
     "text": [
      "33\n"
     ]
    }
   ],
   "source": [
    "print(ll.head.value)"
   ]
  },
  {
   "cell_type": "code",
   "execution_count": 52,
   "metadata": {},
   "outputs": [],
   "source": [
    "ll.append(12)"
   ]
  },
  {
   "cell_type": "code",
   "execution_count": 53,
   "metadata": {},
   "outputs": [
    {
     "data": {
      "text/plain": [
       "12"
      ]
     },
     "execution_count": 53,
     "metadata": {},
     "output_type": "execute_result"
    }
   ],
   "source": [
    "ll.head.next.value"
   ]
  },
  {
   "cell_type": "code",
   "execution_count": 68,
   "metadata": {},
   "outputs": [],
   "source": [
    "ll.insert_by_position(1, 50)"
   ]
  },
  {
   "cell_type": "code",
   "execution_count": 55,
   "metadata": {},
   "outputs": [
    {
     "data": {
      "text/plain": [
       "12"
      ]
     },
     "execution_count": 55,
     "metadata": {},
     "output_type": "execute_result"
    }
   ],
   "source": [
    "ll.head.next.next.value"
   ]
  },
  {
   "cell_type": "code",
   "execution_count": 56,
   "metadata": {},
   "outputs": [
    {
     "data": {
      "text/plain": [
       "33"
      ]
     },
     "execution_count": 56,
     "metadata": {},
     "output_type": "execute_result"
    }
   ],
   "source": [
    "ll.head.value"
   ]
  },
  {
   "cell_type": "code",
   "execution_count": 57,
   "metadata": {},
   "outputs": [
    {
     "data": {
      "text/plain": [
       "90"
      ]
     },
     "execution_count": 57,
     "metadata": {},
     "output_type": "execute_result"
    }
   ],
   "source": [
    "ll.head.next.value"
   ]
  },
  {
   "cell_type": "code",
   "execution_count": 58,
   "metadata": {},
   "outputs": [
    {
     "data": {
      "text/plain": [
       "12"
      ]
     },
     "execution_count": 58,
     "metadata": {},
     "output_type": "execute_result"
    }
   ],
   "source": [
    "ll.head.next.next.value"
   ]
  },
  {
   "cell_type": "code",
   "execution_count": 59,
   "metadata": {},
   "outputs": [
    {
     "name": "stdout",
     "output_type": "stream",
     "text": [
      "33\n",
      "90\n",
      "12\n"
     ]
    }
   ],
   "source": [
    "ll.traverse()"
   ]
  },
  {
   "cell_type": "code",
   "execution_count": 60,
   "metadata": {},
   "outputs": [],
   "source": [
    "ll.reverse()"
   ]
  },
  {
   "cell_type": "code",
   "execution_count": 61,
   "metadata": {},
   "outputs": [
    {
     "name": "stdout",
     "output_type": "stream",
     "text": [
      "12\n",
      "90\n",
      "33\n"
     ]
    }
   ],
   "source": [
    "ll.traverse()"
   ]
  },
  {
   "cell_type": "code",
   "execution_count": 62,
   "metadata": {},
   "outputs": [],
   "source": [
    "ll.pop()"
   ]
  },
  {
   "cell_type": "code",
   "execution_count": 63,
   "metadata": {},
   "outputs": [
    {
     "name": "stdout",
     "output_type": "stream",
     "text": [
      "12\n",
      "90\n"
     ]
    }
   ],
   "source": [
    "ll.traverse()"
   ]
  },
  {
   "cell_type": "code",
   "execution_count": 70,
   "metadata": {},
   "outputs": [],
   "source": [
    "ll.remove(1)"
   ]
  },
  {
   "cell_type": "code",
   "execution_count": 71,
   "metadata": {},
   "outputs": [
    {
     "name": "stdout",
     "output_type": "stream",
     "text": [
      "12\n",
      "90\n"
     ]
    }
   ],
   "source": [
    "ll.traverse()"
   ]
  },
  {
   "cell_type": "code",
   "execution_count": null,
   "metadata": {},
   "outputs": [],
   "source": []
  }
 ],
 "metadata": {
  "kernelspec": {
   "display_name": "Python 3",
   "language": "python",
   "name": "python3"
  },
  "language_info": {
   "codemirror_mode": {
    "name": "ipython",
    "version": 3
   },
   "file_extension": ".py",
   "mimetype": "text/x-python",
   "name": "python",
   "nbconvert_exporter": "python",
   "pygments_lexer": "ipython3",
   "version": "3.7.3"
  }
 },
 "nbformat": 4,
 "nbformat_minor": 2
}
