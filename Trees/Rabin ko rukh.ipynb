{
 "cells": [
  {
   "cell_type": "code",
   "execution_count": 1,
   "metadata": {},
   "outputs": [],
   "source": [
    "class Node:\n",
    "    def __init__(self, value):\n",
    "        self.value = value\n",
    "        self.children = {}"
   ]
  },
  {
   "cell_type": "code",
   "execution_count": 147,
   "metadata": {},
   "outputs": [],
   "source": [
    "class Tree:\n",
    "    def __init__(self, value):\n",
    "        self.root = Node(value)\n",
    "    \n",
    "    def index(self, value):\n",
    "        return ord(value)\n",
    "    \n",
    "    def add(self, parent_value, new_value):\n",
    "        base = self.root\n",
    "#         parent_index = ord(str(parent_value))\n",
    "#         child_index = onew_value))\n",
    "        \n",
    "        while base.children and base.children.get(parent_value):\n",
    "            base = base.children[parent_value]\n",
    "            \n",
    "        \n",
    "        base.children[new_value] = Node(new_value)\n",
    "        print(vars(base))"
   ]
  },
  {
   "cell_type": "code",
   "execution_count": 150,
   "metadata": {},
   "outputs": [],
   "source": [
    "tree = Tree(1)"
   ]
  },
  {
   "cell_type": "code",
   "execution_count": 155,
   "metadata": {},
   "outputs": [
    {
     "name": "stdout",
     "output_type": "stream",
     "text": [
      "{'value': 2, 'children': {10: <__main__.Node object at 0x11346ab38>, 100: <__main__.Node object at 0x11344b668>}}\n"
     ]
    }
   ],
   "source": [
    "tree.add(2,100)"
   ]
  },
  {
   "cell_type": "code",
   "execution_count": 156,
   "metadata": {},
   "outputs": [
    {
     "data": {
      "text/plain": [
       "{1: {3: {}}}"
      ]
     },
     "execution_count": 156,
     "metadata": {},
     "output_type": "execute_result"
    }
   ],
   "source": [
    "{tree.root.value:{key:{k: v.value for k, v in value.children.items()}} for key, value in tree.root.children.items()}"
   ]
  },
  {
   "cell_type": "code",
   "execution_count": null,
   "metadata": {},
   "outputs": [],
   "source": []
  }
 ],
 "metadata": {
  "kernelspec": {
   "display_name": "Python 3",
   "language": "python",
   "name": "python3"
  },
  "language_info": {
   "codemirror_mode": {
    "name": "ipython",
    "version": 3
   },
   "file_extension": ".py",
   "mimetype": "text/x-python",
   "name": "python",
   "nbconvert_exporter": "python",
   "pygments_lexer": "ipython3",
   "version": "3.7.3"
  }
 },
 "nbformat": 4,
 "nbformat_minor": 2
}
